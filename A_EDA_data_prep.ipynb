{
 "cells": [
  {
   "cell_type": "markdown",
   "id": "6372bea6",
   "metadata": {},
   "source": [
    "# My attempt at creating a \"only time-based\" dataset for predicitons.\n",
    "Perhaps we can mix and match some of the features from this to the other."
   ]
  }
 ],
 "metadata": {
  "language_info": {
   "name": "python"
  }
 },
 "nbformat": 4,
 "nbformat_minor": 5
}
